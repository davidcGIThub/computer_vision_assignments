{
 "cells": [
  {
   "cell_type": "markdown",
   "metadata": {},
   "source": [
    "# Project 2: Segmentation\n",
    "\n",
    "### What to Submit\n",
    "Submit this iPython Notebook--containing all your code for the programming exercises below--on [learning suite](https://learningsuite.byu.edu/).\n",
    "\n",
    "Your notebook file should produce the relevant plots and also provide a short write-up with answers to the questions below.\n",
    "\n",
    "Please also fill in here the time that each part took you:\n",
    "* 1. Setting up PyMaxFlow: 10 min\n",
    "* 2. Getting your first successful segmentation: 6 hrs\n",
    "* 3. Adjusting parameters (e.g. $\\lambda$, $\\sigma$) and so forth, to get good results: 2 hrs\n",
    "* 4. Completing the write-up: 30 min\n",
    "\n",
    "Note that there are two folders within the project.  We have provided some images for you to use in testing your implementation, in the `provided images` folder along with their ground-truth segmentations to compare your results to.  Along with these, we want you to provide 2-4 additional images that you select on which you show your results.  <i>Please use the `provided_images` in that path and place any others in the `user_data` folder, and load all of the images (or user input point location files) via the approapriate relative path.  We will drop your notebook file and your `user_data` folder into our folder (which will have the `provided_images` already) and then run your notebook.</i>\n",
    "\n",
    "\n",
    "\n",
    "\n",
    "## Preparation:\n",
    "So that you can focus on the elements of the cost function ( the link weights), you may use a existing implementation of the actual min-cut algorithm itself.  You set up the graph, but it will take care of finding the minimum cut.\n",
    "\n",
    "For this assignment we will be using a python library called PyMaxFlow.  This library is a python wrapper around the original C++ implementation of the min-cut code from [Vladimir Kolmogorov](http://pub.ist.ac.at/%7Evnk/software.html) (who has co-authored several papers on this subject).    \n",
    "\n",
    "Note: For windows users, you will need the Visual C++ compiler in order for PyMaxFlow to work.  If you already have Visual Studio, this shouldn't be a problem but if you just want the compiler without Visual Studio, you can download [Build Tools For Visual Studio 2017](https://visualstudio.microsoft.com/downloads/#build-tools-for-visual-studio-2017). Once you have access to the Visual C++ compiler look at the next paragraph for PyMaxFlow installation.\n",
    "\n",
    "PyMaxFlow requires Cython, which should come standard in your anaconda environment but the command to install that will also be included.  To install PyMaxFlow enter the following commands replacing \"YourEnvironmentName\" with the name of your anaconda environment.\n",
    "~~~\n",
    "conda activate YourEnvironemntName\n",
    "conda install cython\n",
    "pip install pymaxflow\n",
    "~~~\n",
    "Once PyMaxFlow is installed, to understand how to use the library, there is a great [tutorial page](http://pmneila.github.io/PyMaxflow/tutorial.html) that shows how to get started with some simple examples.  Do the \"first example\" and perhaps the \"binary image restoration\" as well."
   ]
  },
  {
   "cell_type": "code",
   "execution_count": 34,
   "metadata": {},
   "outputs": [
    {
     "name": "stdout",
     "output_type": "stream",
     "text": [
      "(1, 2, 13)\n",
      "Maximum flow: 8\n",
      "Segment of the node 0: 1\n",
      "Segment of the node 1: 0\n"
     ]
    },
    {
     "data": {
      "image/png": "[encoded data removed]",
      "text/plain": [
       "<Figure size 432x288 with 1 Axes>"
      ]
     },
     "metadata": {
      "needs_background": "light"
     },
     "output_type": "display_data"
    }
   ],
   "source": [
    "from matplotlib import pyplot as plt\n",
    "import maxflow\n",
    "import os\n",
    "import cv2 as cv\n",
    "import numpy as np\n",
    "\n",
    "print(maxflow.__version__)\n",
    "cwd = os.getcwd()\n",
    "\n",
    "###### Example 1 ##########\n",
    "# Create a graph with integer capacities, with 2 non-terminal nodes and 2 non-terminal edges.\n",
    "# The constructor parameters (2, 2) are initial estimations of the number of nodes and the number of non-terminal edges. \n",
    "# These estimations do not need to be correct or even approximate (it is possible to set them to 0), but a good estimation \n",
    "# allows for more efficient memory management.\n",
    "g = maxflow.Graph[int](2, 2)\n",
    "# Add two (non-terminal) nodes. Get the index to the first one.\n",
    "nodes = g.add_nodes(2)\n",
    "# Create the non-terminal edges (forwards and backwards) with the given capacities between nodes 0 and 1.\n",
    "g.add_edge(nodes[0], nodes[1], 1, 2)\n",
    "# Set the capacities of the terminal edges...\n",
    "# ...for the first node\n",
    "g.add_tedge(nodes[0], 2, 5)\n",
    "# ...for the second node\n",
    "g.add_tedge(nodes[1], 9, 4)\n",
    "flow = g.maxflow()\n",
    "print(f\"Maximum flow: {flow}\")\n",
    "# Finally, we want to know the the partition given by the minimum cut:\n",
    "# The method get_segment returns 0 when the given node belongs to the \n",
    "# source partition and 1 when the node belongs to the sink partition.\n",
    "print(f\"Segment of the node 0: {g.get_segment(nodes[0])}\")\n",
    "print(f\"Segment of the node 1: {g.get_segment(nodes[1])}\")\n",
    "\n",
    "######## Binary Image Restoration ##########\n",
    "image_path = cwd + '/user_data/binary_image_restoration.png'\n",
    "img = cv.imread(image_path,cv.IMREAD_GRAYSCALE)\n",
    "# Create the graph.\n",
    "g2 = maxflow.Graph[int]()\n",
    "# Add the nodes. nodeids has the identifiers of the nodes in the grid.\n",
    "# Note that nodeids.shape == img.shape\n",
    "nodeids = g2.add_grid_nodes(img.shape)\n",
    "# Add non-terminal edges with the same capacity.\n",
    "g2.add_grid_edges(nodeids, 50)\n",
    "# Add the terminal edges. The image pixels are the capacities\n",
    "# of the edges from the source node. The inverted image pixels\n",
    "# are the capacities of the edges to the sink node.\n",
    "g2.add_grid_tedges(nodeids, img, 255-img)\n",
    "# Find the maximum flow.\n",
    "g2.maxflow()\n",
    "# Get the segments of the nodes in the grid.\n",
    "# sgm.shape == nodeids.shape\n",
    "sgm = g2.get_grid_segments(nodeids)\n",
    "# The labels should be 1 where sgm is False and 0 otherwise.\n",
    "# The method get_grid_segments returns an array with the same shape than nodeids. \n",
    "# It is almost equivalent to calling get_segment once for each node in nodeids, \n",
    "# but much faster, and preserving the shape of the input. For the i-th cell, \n",
    "# the array stores False if the i-th node belongs to the source segment (i.e., the corresponding pixel has the label 1) \n",
    "# and True if the node belongs to the sink segment (i.e., the corresponding pixel has the label 0). \n",
    "# We now get the labels for each pixel:\n",
    "img2 = np.int_(np.logical_not(sgm))\n",
    "# Show the result.\n",
    "plt.imshow(img2,cmap=\"gray\")\n",
    "plt.show()"
   ]
  },
  {
   "cell_type": "markdown",
   "metadata": {},
   "source": [
    "\n",
    "\n",
    "## Annotations:\n",
    "Graph cut segmentation is an interactive algorithm requiring the user to provide foreground and background seeds.  Provided is a python file that will open a gui and allow you to annotate the image.  This gui is optional and will require additional packages to be installed into your environment.  To install the packages open a terminal and enter the following commands:\n",
    "~~~\n",
    "conda activate YourEnvironmentName\n",
    "conda install scikit-image pillow\n",
    "~~~\n",
    "You can use the gui in the following way:\n",
    "```python\n",
    "import guiseg\n",
    "fore, back = guiseg.get_fore_back(image)\n",
    "image[fore]  # the foreground seeds\n",
    "image[back]  # the background seeds\n",
    "```\n",
    "\n",
    "For the `guiseg` routine to run, I also found it necssary to install PIL ImageTk (For me, it was `sudo apt install python3-pil.imagetk` but it will be different for Conda)."
   ]
  },
  {
   "cell_type": "code",
   "execution_count": 70,
   "metadata": {},
   "outputs": [
    {
     "name": "stdout",
     "output_type": "stream",
     "text": [
      "[]\n",
      "[]\n"
     ]
    }
   ],
   "source": [
    "import guiseg\n",
    "import cv2\n",
    "#imageBGR = cv2.imread('provided_images/simplecircle.png');\n",
    "imageBGR = cv2.imread('provided_images/banana.png');\n",
    "pic = imageBGR[:,:,::-1]; # I reverse the BGR from OpenCV to BGR\n",
    "\n",
    "# When the GUI pops up, you can pick either the \"Foreground\" or \"Background\" buttons to\n",
    "# select pixels to be respective seeds.  Once you're finished, click \"Return\"\n",
    "fore, back = guiseg.get_fore_back(pic)\n",
    "print(pic[fore][:5])  # foreground seeds (RGB values for all pixels drawn on, but only showing 5)\n",
    "print(pic[back][:5])  # background seeds (RGB values for all pixels drawn on, but only showing 5)"
   ]
  },
  {
   "cell_type": "markdown",
   "metadata": {},
   "source": [
    "\n",
    "\n",
    "## Graph Cut:\n",
    "Your code should read in an image and a set of seed pixels and use graph-cut segmentation to segment the image.\n",
    "\n",
    "You will need to calculate the costs for the t-links (region terms) and the n-links (boundary terms). See the book, the notes/slides, or published papers in this area for ideas of how to define these.  Remember that the t-link weights to a particular terminal (foreground or background) should be large if that pixel looks a lot like the respective foreground/background seeds. The n-link weights should be large if the two neighboring pixels are similar.\n",
    "\n",
    "Here is [the original paper on graph-cut segmentation](http://www.csd.uwo.ca/~yuri/Papers/iccv01.pdf), which might help with some ideas, but you should look at the literature to see what other costs functions / link weights others have used.\n",
    "\n",
    "Once the graph is built, use the min-cut algorithm to partition the graph into nodes connected to the foreground node or to the background node, then use these as the resulting labels for the segmentation. Display this result graphically in some fashion overlaid on the input image.  It is best to start with simple images whose foreground and background colors are pretty different and for ones where the edges are pretty clear.  Graph-cut segmentation struggles sometimes with long, thin structures, so you should avoid these types of images early on.\n",
    "\n"
   ]
  },
  {
   "cell_type": "code",
   "execution_count": 152,
   "metadata": {
    "scrolled": true
   },
   "outputs": [
    {
     "ename": "ValueError",
     "evalue": "Found array with 0 sample(s) (shape=(0, 3)) while a minimum of 1 is required.",
     "output_type": "error",
     "traceback": [
      "\u001b[0;31m---------------------------------------------------------------------------\u001b[0m",
      "\u001b[0;31mValueError\u001b[0m                                Traceback (most recent call last)",
      "\u001b[0;32m/tmp/ipykernel_15368/951374348.py\u001b[0m in \u001b[0;36m<module>\u001b[0;34m\u001b[0m\n\u001b[1;32m     68\u001b[0m \u001b[0;34m\u001b[0m\u001b[0m\n\u001b[1;32m     69\u001b[0m \u001b[0msigma\u001b[0m \u001b[0;34m=\u001b[0m \u001b[0;36m10\u001b[0m\u001b[0;34m\u001b[0m\u001b[0;34m\u001b[0m\u001b[0m\n\u001b[0;32m---> 70\u001b[0;31m \u001b[0msegmented\u001b[0m\u001b[0;34m,\u001b[0m \u001b[0mtri_map\u001b[0m \u001b[0;34m=\u001b[0m \u001b[0mget_segmentation_images\u001b[0m\u001b[0;34m(\u001b[0m\u001b[0mimage\u001b[0m\u001b[0;34m,\u001b[0m\u001b[0msigma\u001b[0m\u001b[0;34m)\u001b[0m\u001b[0;34m\u001b[0m\u001b[0;34m\u001b[0m\u001b[0m\n\u001b[0m\u001b[1;32m     71\u001b[0m \u001b[0mplt\u001b[0m\u001b[0;34m.\u001b[0m\u001b[0mimshow\u001b[0m\u001b[0;34m(\u001b[0m\u001b[0mtri_map\u001b[0m\u001b[0;34m)\u001b[0m\u001b[0;34m\u001b[0m\u001b[0;34m\u001b[0m\u001b[0m\n\u001b[1;32m     72\u001b[0m \u001b[0mplt\u001b[0m\u001b[0;34m.\u001b[0m\u001b[0mshow\u001b[0m\u001b[0;34m(\u001b[0m\u001b[0;34m)\u001b[0m\u001b[0;34m\u001b[0m\u001b[0;34m\u001b[0m\u001b[0m\n",
      "\u001b[0;32m/tmp/ipykernel_15368/951374348.py\u001b[0m in \u001b[0;36mget_segmentation_images\u001b[0;34m(image, sigma)\u001b[0m\n\u001b[1;32m     36\u001b[0m     \u001b[0;31m# add terminal edges\u001b[0m\u001b[0;34m\u001b[0m\u001b[0;34m\u001b[0m\u001b[0;34m\u001b[0m\u001b[0m\n\u001b[1;32m     37\u001b[0m     \u001b[0mforeground_data\u001b[0m\u001b[0;34m,\u001b[0m \u001b[0mbackground_data\u001b[0m \u001b[0;34m=\u001b[0m \u001b[0mguiseg\u001b[0m\u001b[0;34m.\u001b[0m\u001b[0mget_fore_back\u001b[0m\u001b[0;34m(\u001b[0m\u001b[0mimage\u001b[0m\u001b[0;34m)\u001b[0m\u001b[0;34m\u001b[0m\u001b[0;34m\u001b[0m\u001b[0m\n\u001b[0;32m---> 38\u001b[0;31m     \u001b[0mkde_foreground\u001b[0m \u001b[0;34m=\u001b[0m \u001b[0mKernelDensity\u001b[0m\u001b[0;34m(\u001b[0m\u001b[0mkernel\u001b[0m \u001b[0;34m=\u001b[0m \u001b[0;34m'gaussian'\u001b[0m \u001b[0;34m,\u001b[0m \u001b[0mbandwidth\u001b[0m \u001b[0;34m=\u001b[0m \u001b[0;36m0.4\u001b[0m\u001b[0;34m)\u001b[0m\u001b[0;34m.\u001b[0m\u001b[0mfit\u001b[0m\u001b[0;34m(\u001b[0m\u001b[0mimage\u001b[0m\u001b[0;34m[\u001b[0m\u001b[0mforeground_data\u001b[0m\u001b[0;34m]\u001b[0m\u001b[0;34m)\u001b[0m\u001b[0;34m\u001b[0m\u001b[0;34m\u001b[0m\u001b[0m\n\u001b[0m\u001b[1;32m     39\u001b[0m     \u001b[0mkde_background\u001b[0m \u001b[0;34m=\u001b[0m \u001b[0mKernelDensity\u001b[0m\u001b[0;34m(\u001b[0m\u001b[0mkernel\u001b[0m \u001b[0;34m=\u001b[0m \u001b[0;34m'gaussian'\u001b[0m \u001b[0;34m,\u001b[0m \u001b[0mbandwidth\u001b[0m \u001b[0;34m=\u001b[0m \u001b[0;36m0.4\u001b[0m\u001b[0;34m)\u001b[0m\u001b[0;34m.\u001b[0m\u001b[0mfit\u001b[0m\u001b[0;34m(\u001b[0m\u001b[0mimage\u001b[0m\u001b[0;34m[\u001b[0m\u001b[0mbackground_data\u001b[0m\u001b[0;34m]\u001b[0m\u001b[0;34m)\u001b[0m\u001b[0;34m\u001b[0m\u001b[0;34m\u001b[0m\u001b[0m\n\u001b[1;32m     40\u001b[0m     \u001b[0mheight\u001b[0m \u001b[0;34m=\u001b[0m \u001b[0mnp\u001b[0m\u001b[0;34m.\u001b[0m\u001b[0mshape\u001b[0m\u001b[0;34m(\u001b[0m\u001b[0mimage\u001b[0m\u001b[0;34m)\u001b[0m\u001b[0;34m[\u001b[0m\u001b[0;36m0\u001b[0m\u001b[0;34m]\u001b[0m\u001b[0;34m\u001b[0m\u001b[0;34m\u001b[0m\u001b[0m\n",
      "\u001b[0;32m~/.virtualenvs/vision/lib/python3.8/site-packages/sklearn/neighbors/_kde.py\u001b[0m in \u001b[0;36mfit\u001b[0;34m(self, X, y, sample_weight)\u001b[0m\n\u001b[1;32m    190\u001b[0m         \"\"\"\n\u001b[1;32m    191\u001b[0m         \u001b[0malgorithm\u001b[0m \u001b[0;34m=\u001b[0m \u001b[0mself\u001b[0m\u001b[0;34m.\u001b[0m\u001b[0m_choose_algorithm\u001b[0m\u001b[0;34m(\u001b[0m\u001b[0mself\u001b[0m\u001b[0;34m.\u001b[0m\u001b[0malgorithm\u001b[0m\u001b[0;34m,\u001b[0m \u001b[0mself\u001b[0m\u001b[0;34m.\u001b[0m\u001b[0mmetric\u001b[0m\u001b[0;34m)\u001b[0m\u001b[0;34m\u001b[0m\u001b[0;34m\u001b[0m\u001b[0m\n\u001b[0;32m--> 192\u001b[0;31m         \u001b[0mX\u001b[0m \u001b[0;34m=\u001b[0m \u001b[0mself\u001b[0m\u001b[0;34m.\u001b[0m\u001b[0m_validate_data\u001b[0m\u001b[0;34m(\u001b[0m\u001b[0mX\u001b[0m\u001b[0;34m,\u001b[0m \u001b[0morder\u001b[0m\u001b[0;34m=\u001b[0m\u001b[0;34m\"C\"\u001b[0m\u001b[0;34m,\u001b[0m \u001b[0mdtype\u001b[0m\u001b[0;34m=\u001b[0m\u001b[0mDTYPE\u001b[0m\u001b[0;34m)\u001b[0m\u001b[0;34m\u001b[0m\u001b[0;34m\u001b[0m\u001b[0m\n\u001b[0m\u001b[1;32m    193\u001b[0m \u001b[0;34m\u001b[0m\u001b[0m\n\u001b[1;32m    194\u001b[0m         \u001b[0;32mif\u001b[0m \u001b[0msample_weight\u001b[0m \u001b[0;32mis\u001b[0m \u001b[0;32mnot\u001b[0m \u001b[0;32mNone\u001b[0m\u001b[0;34m:\u001b[0m\u001b[0;34m\u001b[0m\u001b[0;34m\u001b[0m\u001b[0m\n",
      "\u001b[0;32m~/.virtualenvs/vision/lib/python3.8/site-packages/sklearn/base.py\u001b[0m in \u001b[0;36m_validate_data\u001b[0;34m(self, X, y, reset, validate_separately, **check_params)\u001b[0m\n\u001b[1;32m    564\u001b[0m             \u001b[0;32mraise\u001b[0m \u001b[0mValueError\u001b[0m\u001b[0;34m(\u001b[0m\u001b[0;34m\"Validation should be done on X, y or both.\"\u001b[0m\u001b[0;34m)\u001b[0m\u001b[0;34m\u001b[0m\u001b[0;34m\u001b[0m\u001b[0m\n\u001b[1;32m    565\u001b[0m         \u001b[0;32melif\u001b[0m \u001b[0;32mnot\u001b[0m \u001b[0mno_val_X\u001b[0m \u001b[0;32mand\u001b[0m \u001b[0mno_val_y\u001b[0m\u001b[0;34m:\u001b[0m\u001b[0;34m\u001b[0m\u001b[0;34m\u001b[0m\u001b[0m\n\u001b[0;32m--> 566\u001b[0;31m             \u001b[0mX\u001b[0m \u001b[0;34m=\u001b[0m \u001b[0mcheck_array\u001b[0m\u001b[0;34m(\u001b[0m\u001b[0mX\u001b[0m\u001b[0;34m,\u001b[0m \u001b[0;34m**\u001b[0m\u001b[0mcheck_params\u001b[0m\u001b[0;34m)\u001b[0m\u001b[0;34m\u001b[0m\u001b[0;34m\u001b[0m\u001b[0m\n\u001b[0m\u001b[1;32m    567\u001b[0m             \u001b[0mout\u001b[0m \u001b[0;34m=\u001b[0m \u001b[0mX\u001b[0m\u001b[0;34m\u001b[0m\u001b[0;34m\u001b[0m\u001b[0m\n\u001b[1;32m    568\u001b[0m         \u001b[0;32melif\u001b[0m \u001b[0mno_val_X\u001b[0m \u001b[0;32mand\u001b[0m \u001b[0;32mnot\u001b[0m \u001b[0mno_val_y\u001b[0m\u001b[0;34m:\u001b[0m\u001b[0;34m\u001b[0m\u001b[0;34m\u001b[0m\u001b[0m\n",
      "\u001b[0;32m~/.virtualenvs/vision/lib/python3.8/site-packages/sklearn/utils/validation.py\u001b[0m in \u001b[0;36mcheck_array\u001b[0;34m(array, accept_sparse, accept_large_sparse, dtype, order, copy, force_all_finite, ensure_2d, allow_nd, ensure_min_samples, ensure_min_features, estimator)\u001b[0m\n\u001b[1;32m    803\u001b[0m         \u001b[0mn_samples\u001b[0m \u001b[0;34m=\u001b[0m \u001b[0m_num_samples\u001b[0m\u001b[0;34m(\u001b[0m\u001b[0marray\u001b[0m\u001b[0;34m)\u001b[0m\u001b[0;34m\u001b[0m\u001b[0;34m\u001b[0m\u001b[0m\n\u001b[1;32m    804\u001b[0m         \u001b[0;32mif\u001b[0m \u001b[0mn_samples\u001b[0m \u001b[0;34m<\u001b[0m \u001b[0mensure_min_samples\u001b[0m\u001b[0;34m:\u001b[0m\u001b[0;34m\u001b[0m\u001b[0;34m\u001b[0m\u001b[0m\n\u001b[0;32m--> 805\u001b[0;31m             raise ValueError(\n\u001b[0m\u001b[1;32m    806\u001b[0m                 \u001b[0;34m\"Found array with %d sample(s) (shape=%s) while a\"\u001b[0m\u001b[0;34m\u001b[0m\u001b[0;34m\u001b[0m\u001b[0m\n\u001b[1;32m    807\u001b[0m                 \u001b[0;34m\" minimum of %d is required%s.\"\u001b[0m\u001b[0;34m\u001b[0m\u001b[0;34m\u001b[0m\u001b[0m\n",
      "\u001b[0;31mValueError\u001b[0m: Found array with 0 sample(s) (shape=(0, 3)) while a minimum of 1 is required."
     ]
    }
   ],
   "source": [
    "from sklearn.neighbors import KernelDensity\n",
    "import copy\n",
    "\n",
    "# Import Image\n",
    "# image_path = cwd + '/provided_images/simplecircle.png'\n",
    "image_path = cwd + '/provided_images/penguin.png'\n",
    "image = cv.imread(image_path)\n",
    "\n",
    "def get_x_pixel_similarity_probability(image,sigma):\n",
    "    height = int(np.shape(image)[0])\n",
    "    width = int(np.shape(image)[1])\n",
    "    padded_image = np.concatenate((image,np.zeros((height,1,3),dtype=int)+125),1)\n",
    "    left_image = padded_image[0:height,0:width,:]\n",
    "    right_image = padded_image[0:height,1:width+1,:]\n",
    "    x_differences = left_image - right_image\n",
    "    norm = np.linalg.norm(x_differences,ord=2,axis=2)\n",
    "    return np.exp(-(norm**2)/(2*sigma**2))\n",
    "\n",
    "def get_y_pixel_similarity_probability(image,sigma):\n",
    "    height = int(np.shape(image)[0])\n",
    "    width = int(np.shape(image)[1])\n",
    "    padded_image = np.concatenate((image,np.zeros((1,width,3),dtype=int)+125),0)\n",
    "    # padded_image = np.concatenate((image,np.zeros((height,1,3),dtype=int)+125),1)\n",
    "    top_image = padded_image[0:height,0:width,:]\n",
    "    bottom_image = padded_image[1:height+1,0:width,:]\n",
    "    y_differences = top_image - bottom_image\n",
    "    norm = np.linalg.norm(y_differences,ord=2,axis=2)\n",
    "    return np.exp(-(norm**2)/(2*sigma**2))\n",
    "\n",
    "def get_segmentation_images(image,sigma):\n",
    "    number_of_nonterminal_nodes = np.shape(image)[0]*np.shape(image)[1]\n",
    "    number_of_terminal_nodes = 2\n",
    "    graph = maxflow.Graph[int](number_of_nonterminal_nodes, number_of_terminal_nodes)\n",
    "    # add nodes\n",
    "    nodeids = graph.add_grid_nodes((image.shape[0],image.shape[1]))\n",
    "    # add terminal edges\n",
    "    foreground_data, background_data = guiseg.get_fore_back(image)\n",
    "    kde_foreground = KernelDensity(kernel = 'gaussian' , bandwidth = 0.4).fit(image[foreground_data])\n",
    "    kde_background = KernelDensity(kernel = 'gaussian' , bandwidth = 0.4).fit(image[background_data])\n",
    "    height = np.shape(image)[0]\n",
    "    width = np.shape(image)[1]\n",
    "    vector_pixels = np.reshape(image,(height*width,3))\n",
    "    foreground_score = np.abs(np.reshape(kde_foreground.score_samples(vector_pixels),(height,width)))\n",
    "    background_score = np.abs(np.reshape(kde_background.score_samples(vector_pixels),(height,width)))\n",
    "    max_likelihood = np.amax([np.amax(foreground_score), np.amax(background_score)])\n",
    "    scale = 255\n",
    "    foreground_score = foreground_score*scale/max_likelihood\n",
    "    background_score = background_score*scale/max_likelihood\n",
    "    graph.add_grid_tedges(nodeids, foreground_score, background_score)\\\n",
    "    # add non terminal edges\n",
    "    x_similarity= get_x_pixel_similarity_probability(image,sigma)\n",
    "    y_similarity = get_y_pixel_similarity_probability(image,sigma)\n",
    "    horizontal_structure = np.array([[0, 0, 0],\n",
    "                                    [0, 0, 1],\n",
    "                                    [0, 0, 0]])\n",
    "    vertical_structure = np.array([[0, 0, 0],\n",
    "                                   [0, 0, 0],\n",
    "                                   [0, 1, 0]])\n",
    "    llambda = np.amax([np.amax(foreground_score) ,np.amax(background_score)])\n",
    "    graph.add_grid_edges(nodeids,weights = x_similarity*llambda, structure = horizontal_structure, symmetric = True)\n",
    "    graph.add_grid_edges(nodeids,weights = y_similarity*llambda, structure = vertical_structure, symmetric = True)\n",
    "    graph.maxflow()\n",
    "    segmented = graph.get_grid_segments(nodeids)\n",
    "    tri_map = (copy.deepcopy(image)/5+77).astype(np.uint8)\n",
    "    tri_map[foreground_data] = 255\n",
    "    tri_map[background_data] = 0\n",
    "    return segmented, tri_map\n",
    "\n",
    "sigma = 10\n",
    "segmented, tri_map = get_segmentation_images(image,sigma)\n",
    "plt.subplots(1,4,1)\n",
    "plt.imshow(tri_map)\n",
    "\n",
    "plt.subplots(1,4,2)\n",
    "plt.imshow(segmented)\n",
    "plt.show()\n",
    "\n"
   ]
  },
  {
   "cell_type": "code",
   "execution_count": null,
   "metadata": {},
   "outputs": [],
   "source": [
    "# Generate results Here (again, add additional cells to your heart's content)\n"
   ]
  },
  {
   "cell_type": "markdown",
   "metadata": {},
   "source": [
    "\n",
    "## Grading / Rubric\n",
    "Points for this assigment will be assigned as follows (100 points total):\n",
    "* [20 pts] Code that correctly generates the graph network structure (nodes, n-links, t-links).\n",
    "* [10 pts] Code that produces the boundary term $B(p,q)$ used for n-links.\n",
    "* [10 pts] Code that produces the region term of the cost $R(p,A)$ used for the t-links.  Remember that you have t-links per pixel, one with cost determined by matching $p$ with the foreground appearance distribution, the other determined relative to the background distribution.  You may use the [sk-learn implementation](https://scikit-learn.org/stable/modules/density.html#kernel-density-estimation) of Kernel Density Estimation.  However you will receive 10 extra points if you implement it yourself.\n",
    "* [20 pts] Implementing the graph-cut with `pymaxflow` and finding the optimal solution for the input graph.\n",
    "* [10 pts] Displaying Results in the following format (for each input image you'll show the following 3-4 result images):\n",
    "   1. Original Image.\n",
    "   2. Tri-map of what was selected by the user (white for foreground, black for background, gray for unknown).  This can be overlaid on top of a faint copy of the image for context if desired.\n",
    "   3. Final segmentation.  Again you can overlay it on a faint copy of the original for context.\n",
    "   4. On the <i>provided images</i> please show a comparison of your resulting segmentaiton with the ground truth.\n",
    "* [20 pts] Good (certainly not perfect, some of them are challenging, but decent/reasonable) results on the 4 provided images (banana, llama, penguin, teddy).  Each image will receive up to 5 points.\n",
    "* [10 pts] Demonstrating your algorithm on 2-4 additional images.  At least one of the images should be somewhat easy, one should be somewhat challenging -- expalin why you think they're respectively easy/challenging.\n",
    "\n",
    "\n",
    "## Write-up:\n",
    "Provide an explanation for the following items:\n",
    "* Describe how you determinied/computed the n-link and t-link weights.\n",
    "* What kinds of image does graph cut segmentation work well for? What kinds of images do you find it struggles with?\n",
    "* What did you learn from the project?\n",
    "* What if any suggestions do you have for improving it (for future students)?"
   ]
  },
  {
   "cell_type": "markdown",
   "metadata": {},
   "source": [
    "<span style=\"color:red;\">WRITE-UP HERE</span>"
   ]
  }
 ],
 "metadata": {
  "kernelspec": {
   "display_name": "Python 3",
   "language": "python",
   "name": "python3"
  },
  "language_info": {
   "codemirror_mode": {
    "name": "ipython",
    "version": 3
   },
   "file_extension": ".py",
   "mimetype": "text/x-python",
   "name": "python",
   "nbconvert_exporter": "python",
   "pygments_lexer": "ipython3",
   "version": "3.8.10"
  }
 },
 "nbformat": 4,
 "nbformat_minor": 2
}
