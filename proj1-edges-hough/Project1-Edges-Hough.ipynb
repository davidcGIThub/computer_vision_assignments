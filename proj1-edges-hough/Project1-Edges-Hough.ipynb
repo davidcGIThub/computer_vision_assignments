{
 "cells": [
  {
   "cell_type": "markdown",
   "metadata": {},
   "source": [
    "# Proejct 1: Edge Detection/Hough Transform\n",
    "\n",
    "### What to Submit\n",
    "Submit this iPython Notebook--containing all your code for the programming exercises below--on [learning suite](https://learningsuite.byu.edu/).\n",
    "\n",
    "Your notebook file should produce the relevant plots and also provide a short write-up with answers to the questions in parts A-B.\n",
    "\n",
    "Please also fill in here the time that each part took you:\n",
    "* A1. Gradient Magnitude: <span style=\"color:red;\">FILL IN TIME</span>\n",
    "* A2. Gradient Orientation: <span style=\"color:red;\">FILL IN TIME</span>\n",
    "* A3. Laplacian Zero-crossings: <span style=\"color:red;\">FILL IN TIME</span>\n",
    "* A4. Gradient Magnitude + Zero-crossings: <span style=\"color:red;\">FILL IN TIME</span>\n",
    "* B. Hough Transform (Circles):  <span style=\"color:red;\">FILL IN TIME</span>\n",
    "\n",
    "Note that the images referred to and needed for this project are contained in the zip file provided (in the same directory as this notebook file).  <i>Please use the files as though they are in the same directory.  We will drop your notebook file into our folder and run it.</i>"
   ]
  },
  {
   "cell_type": "markdown",
   "metadata": {},
   "source": [
    "### Programming Exercises\n",
    "Make sure to read through all of the assignment and plan accordingly.  The first part is relatively easy, but you should allow adequate time for the second part.\n",
    "\n",
    "The main goal is to investigate edge detection and the Hough transform as discussed in Sections 4.2 and 4.3 of [Szeliski](http://szeliski.org/Book \"Computer Vision: Algorithms and Applications\")."
   ]
  },
  {
   "cell_type": "markdown",
   "metadata": {},
   "source": [
    "#### Part A: Edge Detection (32 points)\n",
    "For each of the following four parts, try out your code first on the <span style=\"color:orange;\">2D_White_Box.png</span> image, then on the more complicated <span style=\"color:orange;\">blocks.png</span> image.\n",
    "\n",
    "Note: Many of the images will contain negative numbers or numbers larger than 255.  Make sure you approprately scale the output images to display all of the information.  Hint: try mapping negative values to [0,128) and positive values to (128,255].\n",
    "\n",
    "2D_White_Box.png:\n",
    "![alt 2D_White_Box.png](2D_White_Box.png)\n",
    "\n",
    "blocks.png:\n",
    "![alt blocks.png](blocks.png)\n",
    "\n",
    "<br><br><b>A1. Gradient Magnitude</b> - Compute the gradient magnitude image for a grayscale image.  Apply a suitable threshold to find edge points--play with the threshold to find the \"best\" solution.  How well does this seem to work?  Feel free to use any preprocessing you wish to prior to edge detection."
   ]
  },
  {
   "cell_type": "code",
   "execution_count": null,
   "metadata": {
    "collapsed": true
   },
   "outputs": [],
   "source": [
    "# Part 1. Compute the Gradient Magnitude\n",
    "\n",
    "\n",
    "\n",
    "# Show your results on the blocks image\n"
   ]
  },
  {
   "cell_type": "markdown",
   "metadata": {},
   "source": [
    "<br><b>A2. Gradient Orientation</b> - Compute a gradient orientation image for a grayscale image.  Encode the orientations as intensity using any method you wish. (Just make sure to document it.)  Hint: use atan2(), not atan(), to do the angle calculation."
   ]
  },
  {
   "cell_type": "code",
   "execution_count": null,
   "metadata": {
    "collapsed": true
   },
   "outputs": [],
   "source": [
    "# Part 2. Compute the Gradient Orientation\n",
    "\n",
    "\n",
    "\n",
    "# Show your results on the blocks image\n"
   ]
  },
  {
   "cell_type": "markdown",
   "metadata": {},
   "source": [
    "<br><b>A3. Laplacian Zero-Crossings</b> - Apply a 3x3 Laplacian kernel to blocks and find the zero crossings.\n",
    "\n"
   ]
  },
  {
   "cell_type": "code",
   "execution_count": null,
   "metadata": {
    "collapsed": true
   },
   "outputs": [],
   "source": [
    "# Part 3. Find the Zero Crossings\n",
    "\n",
    "\n",
    "\n",
    "# Show the results on blocks image\n"
   ]
  },
  {
   "cell_type": "markdown",
   "metadata": {},
   "source": [
    "<br><b>A4. Combine Gradient Magnitude and Zero-Crossings</b> - Use the gradient magnitude image computed in item 1 to select Laplacian zero-crossings in part 3 that correspond to points with gradients higher than some threshold that you determine.  Adjust your threshold to find the best solution.\n"
   ]
  },
  {
   "cell_type": "code",
   "execution_count": null,
   "metadata": {
    "collapsed": true
   },
   "outputs": [],
   "source": [
    "# Part 4. Final Solution\n",
    "\n",
    "\n",
    "\n",
    "# Show the results on blocks image\n"
   ]
  },
  {
   "cell_type": "markdown",
   "metadata": {},
   "source": [
    "##### Part A: Write-up"
   ]
  },
  {
   "cell_type": "markdown",
   "metadata": {},
   "source": [
    "<span style=\"color:red\">Please describe your results here and any questions, etc. above.</span>\n",
    "\n"
   ]
  },
  {
   "cell_type": "markdown",
   "metadata": {},
   "source": [
    "<br><br><br>\n",
    "#### Part B: Hough Transform (68 points)\n",
    "Use the Hough transform to find all of the circular shapes in a color image.  They occur in three (approximate) sizes: 32, 64, and 96 pixels in diameter.  Try it out first on the simple <span style=\"color:orange;\">simplecircle.png</span> image, then on the more complicated <span style=\"color:orange;\">circles.png</span> image.\n",
    "\n",
    "After finding maxima in the accumulator(s), write out a list of positions and sizes (small, medium, or large) for each circle.  Be aware that for some of the circles the center is outside the image--you should still be able to identify where it is.\n",
    "\n",
    "Some of the cases are tricky--don't panic if you don't get them all at first. Keep trying to get as many as possible while generatign as few possible false positives (erroneous identifications).\n",
    "\n",
    "About 40 of the 68 points will be on how many of the circles you can detect (1-2 false positives are okay). To know what you should be shooting for, there are:\n",
    "* 5 small circles (blue/cyan, light gray, purple clipped on the left, two eyes of the pumpkin).\n",
    "* 12 medium circles (green one in the top left corner, orange/magenta/pink near top/left, yello, magenta, purple/cyan, medium grey in \"target\", med blue clipped on the left, red/white/blue on lower right).\n",
    "* 3 Large circles (black in target, black/dark blue on right, and orange pumpkin).\n",
    "\n",
    "For the <span style=\"color:orange;\">circles.png</span> file, and each of the 3 diameters, show (1) the accumulation array and (2) the <span style=\"color:orange;\">circles.png</span> with the detected circles outlined.  This would be a total of 6 figures (3 diameters with two plots each).\n",
    "\n",
    "This will be graded based on how well your method performs and how innovative your solution is. **In the write-up, describe any improvements/optimizations you made from the vanilla Hough transform**.\n",
    "\n",
    "simplecircle.png:\n",
    "![alt simplecircle.png](simplecircle.png)\n",
    "circles.png:\n",
    "![alt circles.png](circles.png)"
   ]
  },
  {
   "cell_type": "code",
   "execution_count": null,
   "metadata": {
    "collapsed": true
   },
   "outputs": [],
   "source": [
    "# Part B - Hough Transform - code below\n",
    "\n",
    "\n",
    "\n",
    "\n",
    "# Be sure to show all of the figures required in the description above\n"
   ]
  },
  {
   "cell_type": "markdown",
   "metadata": {},
   "source": [
    "##### Part B: Write-up"
   ]
  },
  {
   "cell_type": "markdown",
   "metadata": {},
   "source": [
    "<span style=\"color:red\">Please describe your results here and any questions, etc. above.</span>\n",
    "\n"
   ]
  }
 ],
 "metadata": {
  "kernelspec": {
   "display_name": "Python 2",
   "language": "python",
   "name": "python2"
  },
  "language_info": {
   "codemirror_mode": {
    "name": "ipython",
    "version": 2
   },
   "file_extension": ".py",
   "mimetype": "text/x-python",
   "name": "python",
   "nbconvert_exporter": "python",
   "pygments_lexer": "ipython2",
   "version": "2.7.6"
  }
 },
 "nbformat": 4,
 "nbformat_minor": 2
}
